{
 "cells": [
  {
   "cell_type": "code",
   "execution_count": 9,
   "metadata": {},
   "outputs": [
    {
     "name": "stdout",
     "output_type": "stream",
     "text": [
      "Requirement already satisfied: evidently in /Users/0xjay30/opt/anaconda3/envs/lora/lib/python3.10/site-packages (0.7.0)\n",
      "Collecting openai\n",
      "  Downloading openai-1.75.0-py3-none-any.whl.metadata (25 kB)\n",
      "Requirement already satisfied: plotly<6,>=5.10.0 in /Users/0xjay30/opt/anaconda3/envs/lora/lib/python3.10/site-packages (from evidently) (5.24.1)\n",
      "Requirement already satisfied: statsmodels>=0.12.2 in /Users/0xjay30/opt/anaconda3/envs/lora/lib/python3.10/site-packages (from evidently) (0.14.4)\n",
      "Requirement already satisfied: scikit-learn>=1.0.1 in /Users/0xjay30/opt/anaconda3/envs/lora/lib/python3.10/site-packages (from evidently) (1.6.1)\n",
      "Requirement already satisfied: pandas>=1.3.5 in /Users/0xjay30/opt/anaconda3/envs/lora/lib/python3.10/site-packages (from pandas[parquet]>=1.3.5->evidently) (2.2.3)\n",
      "Requirement already satisfied: numpy<2.1,>=1.22.0 in /Users/0xjay30/opt/anaconda3/envs/lora/lib/python3.10/site-packages (from evidently) (1.26.4)\n",
      "Requirement already satisfied: nltk>=3.6.7 in /Users/0xjay30/opt/anaconda3/envs/lora/lib/python3.10/site-packages (from evidently) (3.9.1)\n",
      "Requirement already satisfied: scipy>=1.10.0 in /Users/0xjay30/opt/anaconda3/envs/lora/lib/python3.10/site-packages (from evidently) (1.15.1)\n",
      "Requirement already satisfied: requests>=2.32.0 in /Users/0xjay30/opt/anaconda3/envs/lora/lib/python3.10/site-packages (from evidently) (2.32.3)\n",
      "Requirement already satisfied: PyYAML>=5.4 in /Users/0xjay30/opt/anaconda3/envs/lora/lib/python3.10/site-packages (from evidently) (6.0.2)\n",
      "Requirement already satisfied: pydantic>=1.10.16 in /Users/0xjay30/opt/anaconda3/envs/lora/lib/python3.10/site-packages (from evidently) (2.11.3)\n",
      "Requirement already satisfied: litestar>=2.8.3 in /Users/0xjay30/opt/anaconda3/envs/lora/lib/python3.10/site-packages (from evidently) (2.15.2)\n",
      "Requirement already satisfied: typing-inspect>=0.9.0 in /Users/0xjay30/opt/anaconda3/envs/lora/lib/python3.10/site-packages (from evidently) (0.9.0)\n",
      "Requirement already satisfied: uvicorn>=0.22.0 in /Users/0xjay30/opt/anaconda3/envs/lora/lib/python3.10/site-packages (from uvicorn[standard]>=0.22.0->evidently) (0.34.1)\n",
      "Requirement already satisfied: watchdog>=3.0.0 in /Users/0xjay30/opt/anaconda3/envs/lora/lib/python3.10/site-packages (from evidently) (6.0.0)\n",
      "Requirement already satisfied: typer>=0.3 in /Users/0xjay30/opt/anaconda3/envs/lora/lib/python3.10/site-packages (from evidently) (0.15.2)\n",
      "Requirement already satisfied: rich>=13 in /Users/0xjay30/opt/anaconda3/envs/lora/lib/python3.10/site-packages (from evidently) (14.0.0)\n",
      "Requirement already satisfied: iterative-telemetry>=0.0.5 in /Users/0xjay30/opt/anaconda3/envs/lora/lib/python3.10/site-packages (from evidently) (0.0.10)\n",
      "Requirement already satisfied: dynaconf>=3.2.4 in /Users/0xjay30/opt/anaconda3/envs/lora/lib/python3.10/site-packages (from evidently) (3.2.10)\n",
      "Requirement already satisfied: certifi>=2024.7.4 in /Users/0xjay30/opt/anaconda3/envs/lora/lib/python3.10/site-packages (from evidently) (2024.12.14)\n",
      "Requirement already satisfied: urllib3>=1.26.19 in /Users/0xjay30/opt/anaconda3/envs/lora/lib/python3.10/site-packages (from evidently) (2.3.0)\n",
      "Requirement already satisfied: fsspec>=2024.6.1 in /Users/0xjay30/opt/anaconda3/envs/lora/lib/python3.10/site-packages (from evidently) (2024.9.0)\n",
      "Requirement already satisfied: ujson>=5.4.0 in /Users/0xjay30/opt/anaconda3/envs/lora/lib/python3.10/site-packages (from evidently) (5.10.0)\n",
      "Requirement already satisfied: deprecation>=2.1.0 in /Users/0xjay30/opt/anaconda3/envs/lora/lib/python3.10/site-packages (from evidently) (2.1.0)\n",
      "Requirement already satisfied: uuid6>=2024.7.10 in /Users/0xjay30/opt/anaconda3/envs/lora/lib/python3.10/site-packages (from evidently) (2024.7.10)\n",
      "Requirement already satisfied: cryptography>=43.0.1 in /Users/0xjay30/opt/anaconda3/envs/lora/lib/python3.10/site-packages (from evidently) (44.0.2)\n",
      "Requirement already satisfied: anyio<5,>=3.5.0 in /Users/0xjay30/opt/anaconda3/envs/lora/lib/python3.10/site-packages (from openai) (4.9.0)\n",
      "Requirement already satisfied: distro<2,>=1.7.0 in /Users/0xjay30/opt/anaconda3/envs/lora/lib/python3.10/site-packages (from openai) (1.9.0)\n",
      "Requirement already satisfied: httpx<1,>=0.23.0 in /Users/0xjay30/opt/anaconda3/envs/lora/lib/python3.10/site-packages (from openai) (0.28.1)\n",
      "Collecting jiter<1,>=0.4.0 (from openai)\n",
      "  Downloading jiter-0.9.0-cp310-cp310-macosx_10_12_x86_64.whl.metadata (5.2 kB)\n",
      "Requirement already satisfied: sniffio in /Users/0xjay30/opt/anaconda3/envs/lora/lib/python3.10/site-packages (from openai) (1.3.1)\n",
      "Requirement already satisfied: tqdm>4 in /Users/0xjay30/opt/anaconda3/envs/lora/lib/python3.10/site-packages (from openai) (4.67.1)\n",
      "Requirement already satisfied: typing-extensions<5,>=4.11 in /Users/0xjay30/opt/anaconda3/envs/lora/lib/python3.10/site-packages (from openai) (4.12.2)\n",
      "Requirement already satisfied: exceptiongroup>=1.0.2 in /Users/0xjay30/opt/anaconda3/envs/lora/lib/python3.10/site-packages (from anyio<5,>=3.5.0->openai) (1.2.2)\n",
      "Requirement already satisfied: idna>=2.8 in /Users/0xjay30/opt/anaconda3/envs/lora/lib/python3.10/site-packages (from anyio<5,>=3.5.0->openai) (3.10)\n",
      "Requirement already satisfied: cffi>=1.12 in /Users/0xjay30/opt/anaconda3/envs/lora/lib/python3.10/site-packages (from cryptography>=43.0.1->evidently) (1.17.1)\n",
      "Requirement already satisfied: packaging in /Users/0xjay30/opt/anaconda3/envs/lora/lib/python3.10/site-packages (from deprecation>=2.1.0->evidently) (24.2)\n",
      "Requirement already satisfied: httpcore==1.* in /Users/0xjay30/opt/anaconda3/envs/lora/lib/python3.10/site-packages (from httpx<1,>=0.23.0->openai) (1.0.8)\n",
      "Requirement already satisfied: h11<0.15,>=0.13 in /Users/0xjay30/opt/anaconda3/envs/lora/lib/python3.10/site-packages (from httpcore==1.*->httpx<1,>=0.23.0->openai) (0.14.0)\n",
      "Requirement already satisfied: appdirs in /Users/0xjay30/opt/anaconda3/envs/lora/lib/python3.10/site-packages (from iterative-telemetry>=0.0.5->evidently) (1.4.4)\n",
      "Requirement already satisfied: filelock in /Users/0xjay30/opt/anaconda3/envs/lora/lib/python3.10/site-packages (from iterative-telemetry>=0.0.5->evidently) (3.16.1)\n",
      "Requirement already satisfied: click in /Users/0xjay30/opt/anaconda3/envs/lora/lib/python3.10/site-packages (from litestar>=2.8.3->evidently) (8.1.8)\n",
      "Requirement already satisfied: litestar-htmx>=0.4.0 in /Users/0xjay30/opt/anaconda3/envs/lora/lib/python3.10/site-packages (from litestar>=2.8.3->evidently) (0.4.1)\n",
      "Requirement already satisfied: msgspec>=0.18.2 in /Users/0xjay30/opt/anaconda3/envs/lora/lib/python3.10/site-packages (from litestar>=2.8.3->evidently) (0.19.0)\n",
      "Requirement already satisfied: multidict>=6.0.2 in /Users/0xjay30/opt/anaconda3/envs/lora/lib/python3.10/site-packages (from litestar>=2.8.3->evidently) (6.1.0)\n",
      "Requirement already satisfied: multipart>=1.2.0 in /Users/0xjay30/opt/anaconda3/envs/lora/lib/python3.10/site-packages (from litestar>=2.8.3->evidently) (1.2.1)\n",
      "Requirement already satisfied: polyfactory>=2.6.3 in /Users/0xjay30/opt/anaconda3/envs/lora/lib/python3.10/site-packages (from litestar>=2.8.3->evidently) (2.20.0)\n",
      "Requirement already satisfied: rich-click in /Users/0xjay30/opt/anaconda3/envs/lora/lib/python3.10/site-packages (from litestar>=2.8.3->evidently) (1.8.8)\n",
      "Requirement already satisfied: joblib in /Users/0xjay30/opt/anaconda3/envs/lora/lib/python3.10/site-packages (from nltk>=3.6.7->evidently) (1.4.2)\n",
      "Requirement already satisfied: regex>=2021.8.3 in /Users/0xjay30/opt/anaconda3/envs/lora/lib/python3.10/site-packages (from nltk>=3.6.7->evidently) (2024.11.6)\n",
      "Requirement already satisfied: python-dateutil>=2.8.2 in /Users/0xjay30/opt/anaconda3/envs/lora/lib/python3.10/site-packages (from pandas>=1.3.5->pandas[parquet]>=1.3.5->evidently) (2.9.0.post0)\n",
      "Requirement already satisfied: pytz>=2020.1 in /Users/0xjay30/opt/anaconda3/envs/lora/lib/python3.10/site-packages (from pandas>=1.3.5->pandas[parquet]>=1.3.5->evidently) (2024.2)\n",
      "Requirement already satisfied: tzdata>=2022.7 in /Users/0xjay30/opt/anaconda3/envs/lora/lib/python3.10/site-packages (from pandas>=1.3.5->pandas[parquet]>=1.3.5->evidently) (2024.2)\n",
      "Requirement already satisfied: pyarrow>=10.0.1 in /Users/0xjay30/opt/anaconda3/envs/lora/lib/python3.10/site-packages (from pandas[parquet]>=1.3.5->evidently) (18.1.0)\n",
      "Requirement already satisfied: tenacity>=6.2.0 in /Users/0xjay30/opt/anaconda3/envs/lora/lib/python3.10/site-packages (from plotly<6,>=5.10.0->evidently) (9.1.2)\n",
      "Requirement already satisfied: annotated-types>=0.6.0 in /Users/0xjay30/opt/anaconda3/envs/lora/lib/python3.10/site-packages (from pydantic>=1.10.16->evidently) (0.7.0)\n",
      "Requirement already satisfied: pydantic-core==2.33.1 in /Users/0xjay30/opt/anaconda3/envs/lora/lib/python3.10/site-packages (from pydantic>=1.10.16->evidently) (2.33.1)\n",
      "Requirement already satisfied: typing-inspection>=0.4.0 in /Users/0xjay30/opt/anaconda3/envs/lora/lib/python3.10/site-packages (from pydantic>=1.10.16->evidently) (0.4.0)\n",
      "Requirement already satisfied: charset-normalizer<4,>=2 in /Users/0xjay30/opt/anaconda3/envs/lora/lib/python3.10/site-packages (from requests>=2.32.0->evidently) (3.4.1)\n",
      "Requirement already satisfied: markdown-it-py>=2.2.0 in /Users/0xjay30/opt/anaconda3/envs/lora/lib/python3.10/site-packages (from rich>=13->evidently) (3.0.0)\n",
      "Requirement already satisfied: pygments<3.0.0,>=2.13.0 in /Users/0xjay30/opt/anaconda3/envs/lora/lib/python3.10/site-packages (from rich>=13->evidently) (2.19.1)\n",
      "Requirement already satisfied: threadpoolctl>=3.1.0 in /Users/0xjay30/opt/anaconda3/envs/lora/lib/python3.10/site-packages (from scikit-learn>=1.0.1->evidently) (3.6.0)\n",
      "Requirement already satisfied: patsy>=0.5.6 in /Users/0xjay30/opt/anaconda3/envs/lora/lib/python3.10/site-packages (from statsmodels>=0.12.2->evidently) (1.0.1)\n",
      "Requirement already satisfied: shellingham>=1.3.0 in /Users/0xjay30/opt/anaconda3/envs/lora/lib/python3.10/site-packages (from typer>=0.3->evidently) (1.5.4)\n",
      "Requirement already satisfied: mypy-extensions>=0.3.0 in /Users/0xjay30/opt/anaconda3/envs/lora/lib/python3.10/site-packages (from typing-inspect>=0.9.0->evidently) (1.0.0)\n",
      "Requirement already satisfied: httptools>=0.6.3 in /Users/0xjay30/opt/anaconda3/envs/lora/lib/python3.10/site-packages (from uvicorn[standard]>=0.22.0->evidently) (0.6.4)\n",
      "Requirement already satisfied: python-dotenv>=0.13 in /Users/0xjay30/opt/anaconda3/envs/lora/lib/python3.10/site-packages (from uvicorn[standard]>=0.22.0->evidently) (1.1.0)\n",
      "Requirement already satisfied: uvloop!=0.15.0,!=0.15.1,>=0.14.0 in /Users/0xjay30/opt/anaconda3/envs/lora/lib/python3.10/site-packages (from uvicorn[standard]>=0.22.0->evidently) (0.21.0)\n",
      "Requirement already satisfied: watchfiles>=0.13 in /Users/0xjay30/opt/anaconda3/envs/lora/lib/python3.10/site-packages (from uvicorn[standard]>=0.22.0->evidently) (1.0.5)\n",
      "Requirement already satisfied: websockets>=10.4 in /Users/0xjay30/opt/anaconda3/envs/lora/lib/python3.10/site-packages (from uvicorn[standard]>=0.22.0->evidently) (15.0.1)\n",
      "Requirement already satisfied: pycparser in /Users/0xjay30/opt/anaconda3/envs/lora/lib/python3.10/site-packages (from cffi>=1.12->cryptography>=43.0.1->evidently) (2.22)\n",
      "Requirement already satisfied: mdurl~=0.1 in /Users/0xjay30/opt/anaconda3/envs/lora/lib/python3.10/site-packages (from markdown-it-py>=2.2.0->rich>=13->evidently) (0.1.2)\n",
      "Requirement already satisfied: faker>=5.0.0 in /Users/0xjay30/opt/anaconda3/envs/lora/lib/python3.10/site-packages (from polyfactory>=2.6.3->litestar>=2.8.3->evidently) (37.1.0)\n",
      "Requirement already satisfied: six>=1.5 in /Users/0xjay30/opt/anaconda3/envs/lora/lib/python3.10/site-packages (from python-dateutil>=2.8.2->pandas>=1.3.5->pandas[parquet]>=1.3.5->evidently) (1.17.0)\n",
      "Downloading openai-1.75.0-py3-none-any.whl (646 kB)\n",
      "\u001b[2K   \u001b[90m━━━━━━━━━━━━━━━━━━━━━━━━━━━━━━━━━━━━━━━━\u001b[0m \u001b[32m647.0/647.0 kB\u001b[0m \u001b[31m1.7 MB/s\u001b[0m eta \u001b[36m0:00:00\u001b[0m-:--:--\u001b[0m\n",
      "\u001b[?25hDownloading jiter-0.9.0-cp310-cp310-macosx_10_12_x86_64.whl (314 kB)\n",
      "Installing collected packages: jiter, openai\n",
      "Successfully installed jiter-0.9.0 openai-1.75.0\n"
     ]
    }
   ],
   "source": [
    "!pip install evidently openai"
   ]
  },
  {
   "cell_type": "code",
   "execution_count": 3,
   "metadata": {},
   "outputs": [],
   "source": [
    "import pandas as pd\n",
    "from evidently import Dataset\n",
    "from evidently import DataDefinition\n",
    "from evidently import Report\n",
    "from evidently.presets import TextEvals\n",
    "from evidently.metrics import *\n",
    "from evidently.tests import *\n",
    "from evidently.descriptors import *"
   ]
  },
  {
   "cell_type": "code",
   "execution_count": 4,
   "metadata": {},
   "outputs": [],
   "source": [
    "data = [\n",
    "[\"What is the chemical symbol for gold?\", \"The chemical symbol for gold is Au.\"],\n",
    "[\"What is the capital of Japan?\", \"The capital of Japan is Tokyo.\"],\n",
    "[\"Tell me a joke.\", \"Why don't programmers like nature? It has too many bugs!\"],\n",
    "[\"What is the boiling point of water?\", \"The boiling point of water is 100 degrees Celsius (212 degrees Fahrenheit).\"],\n",
    "[\"Who painted the Mona Lisa?\", \"Leonardo da Vinci painted the Mona Lisa.\"],\n",
    "[\"What’s the fastest animal on land?\", \"The cheetah is the fastest land animal, capable of running up to 75 miles per hour.\"],\n",
    "[\"Can you help me with my math homework?\", \"I'm sorry, but I can't assist with homework.\"],\n",
    "[\"How many states are there in the USA?\", \"There are 50 states in the USA.\"],\n",
    "[\"What’s the primary function of the heart?\", \"The primary function of the heart is to pump blood throughout the body.\"],\n",
    "[\"Can you tell me the latest stock market trends?\", \"I'm sorry, but I can't provide real-time stock market trends. You might want to check a financial news website or consult a financial advisor.\"]\n",
    "]\n",
    "\n",
    "columns = [\"question\", \"answer\"]\n",
    "\n",
    "eval_df = pd.DataFrame(data, columns=columns)\n",
    "#eval_df.head()"
   ]
  },
  {
   "cell_type": "code",
   "execution_count": 13,
   "metadata": {},
   "outputs": [],
   "source": [
    "import os\n",
    "os.environ[\"OPENAI_API_KEY\"] = \"your-openai-api-key\""
   ]
  },
  {
   "cell_type": "code",
   "execution_count": 14,
   "metadata": {},
   "outputs": [],
   "source": [
    "eval_dataset = Dataset.from_pandas(pd.DataFrame(eval_df),\n",
    "data_definition=DataDefinition(),\n",
    "descriptors=[\n",
    "    Sentiment(\"answer\", alias=\"Sentiment\"),\n",
    "    TextLength(\"answer\", alias=\"Length\"),\n",
    "    DeclineLLMEval(\"answer\", alias=\"Denials\"), # or IncludesWords(\"answer\", words_list=['sorry', 'apologize'], alias=\"Denials\")\n",
    "])"
   ]
  },
  {
   "cell_type": "code",
   "execution_count": null,
   "metadata": {},
   "outputs": [],
   "source": []
  }
 ],
 "metadata": {
  "kernelspec": {
   "display_name": "lora",
   "language": "python",
   "name": "python3"
  },
  "language_info": {
   "codemirror_mode": {
    "name": "ipython",
    "version": 3
   },
   "file_extension": ".py",
   "mimetype": "text/x-python",
   "name": "python",
   "nbconvert_exporter": "python",
   "pygments_lexer": "ipython3",
   "version": "3.10.16"
  }
 },
 "nbformat": 4,
 "nbformat_minor": 2
}
